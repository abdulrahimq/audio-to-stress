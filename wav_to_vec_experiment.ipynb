{
  "nbformat": 4,
  "nbformat_minor": 0,
  "metadata": {
    "colab": {
      "provenance": [],
      "include_colab_link": true
    },
    "kernelspec": {
      "name": "python3",
      "display_name": "Python 3"
    },
    "language_info": {
      "name": "python"
    }
  },
  "cells": [
    {
      "cell_type": "markdown",
      "metadata": {
        "id": "view-in-github",
        "colab_type": "text"
      },
      "source": [
        "<a href=\"https://colab.research.google.com/github/abdulrahimq/audio-to-stress/blob/main/wav_to_vec_experiment.ipynb\" target=\"_parent\"><img src=\"https://colab.research.google.com/assets/colab-badge.svg\" alt=\"Open In Colab\"/></a>"
      ]
    },
    {
      "cell_type": "code",
      "execution_count": 1,
      "metadata": {
        "id": "btO5wxQGuwdM"
      },
      "outputs": [],
      "source": [
        "import scipy.io.wavfile as scw\n",
        "import numpy as np\n"
      ]
    },
    {
      "cell_type": "code",
      "source": [
        "scw.read(\"egca-fco-f1f2.wav\")"
      ],
      "metadata": {
        "id": "s979YYxnEza0",
        "outputId": "0b74eaaa-c6b2-41b6-871d-b8031b02792d",
        "colab": {
          "base_uri": "https://localhost:8080/"
        }
      },
      "execution_count": 3,
      "outputs": [
        {
          "output_type": "stream",
          "name": "stderr",
          "text": [
            "/tmp/ipython-input-3429940624.py:1: WavFileWarning: Chunk (non-data) not understood, skipping it.\n",
            "  scw.read(\"egca-fco-f1f2.wav\")\n"
          ]
        },
        {
          "output_type": "execute_result",
          "data": {
            "text/plain": [
              "(44100,\n",
              " array([[-339,  374],\n",
              "        [-378,  120],\n",
              "        [-379, -211],\n",
              "        ...,\n",
              "        [   2,    6],\n",
              "        [  -7,   16],\n",
              "        [   2,   10]], dtype=int16))"
            ]
          },
          "metadata": {},
          "execution_count": 3
        }
      ]
    },
    {
      "cell_type": "code",
      "source": [],
      "metadata": {
        "id": "022Gx1FjFLRu"
      },
      "execution_count": null,
      "outputs": []
    }
  ]
}