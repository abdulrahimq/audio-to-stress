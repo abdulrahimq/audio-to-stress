{
  "nbformat": 4,
  "nbformat_minor": 0,
  "metadata": {
    "colab": {
      "provenance": [],
      "include_colab_link": true
    },
    "kernelspec": {
      "name": "python3",
      "display_name": "Python 3"
    },
    "language_info": {
      "name": "python"
    }
  },
  "cells": [
    {
      "cell_type": "markdown",
      "metadata": {
        "id": "view-in-github",
        "colab_type": "text"
      },
      "source": [
        "<a href=\"https://colab.research.google.com/github/abdulrahimq/audio-to-stress/blob/main/wav_to_vec_experiment.ipynb\" target=\"_parent\"><img src=\"https://colab.research.google.com/assets/colab-badge.svg\" alt=\"Open In Colab\"/></a>"
      ]
    },
    {
      "cell_type": "code",
      "execution_count": 16,
      "metadata": {
        "id": "btO5wxQGuwdM"
      },
      "outputs": [],
      "source": [
        "import scipy.io.wavfile as scw\n",
        "import numpy as np\n",
        "from transformers import Wav2Vec2FeatureExtractor"
      ]
    },
    {
      "cell_type": "code",
      "source": [
        "rawvector = scw.read(\"egca-fco-f3m1.WAV\")"
      ],
      "metadata": {
        "colab": {
          "base_uri": "https://localhost:8080/"
        },
        "id": "s979YYxnEza0",
        "outputId": "0f48959a-111a-4f26-8879-7681353774ea"
      },
      "execution_count": 21,
      "outputs": [
        {
          "output_type": "stream",
          "name": "stderr",
          "text": [
            "/tmp/ipython-input-2410688940.py:1: WavFileWarning: Chunk (non-data) not understood, skipping it.\n",
            "  rawvector = scw.read(\"egca-fco-f3m1.WAV\")\n"
          ]
        }
      ]
    },
    {
      "cell_type": "code",
      "source": [
        "wavearray = np.array(rawvector[1])\n",
        "wavearray[0:10]"
      ],
      "metadata": {
        "colab": {
          "base_uri": "https://localhost:8080/"
        },
        "id": "022Gx1FjFLRu",
        "outputId": "e91bf34f-49cc-4683-871d-2bf2c9aa585e"
      },
      "execution_count": 22,
      "outputs": [
        {
          "output_type": "execute_result",
          "data": {
            "text/plain": [
              "array([[0, 0],\n",
              "       [0, 0],\n",
              "       [0, 0],\n",
              "       [0, 0],\n",
              "       [0, 0],\n",
              "       [0, 0],\n",
              "       [0, 0],\n",
              "       [0, 0],\n",
              "       [0, 0],\n",
              "       [0, 0]], dtype=int16)"
            ]
          },
          "metadata": {},
          "execution_count": 22
        }
      ]
    },
    {
      "cell_type": "code",
      "source": [
        "extractor = Wav2Vec2FeatureExtractor()\n",
        "extractor.__call__(wavearray, max_length = 100, truncation = True)"
      ],
      "metadata": {
        "id": "v9y52PsVIQzN",
        "outputId": "b5dd56fe-4834-4472-cdad-8ef094fa15fc",
        "colab": {
          "base_uri": "https://localhost:8080/"
        }
      },
      "execution_count": null,
      "outputs": [
        {
          "output_type": "stream",
          "name": "stderr",
          "text": [
            "It is strongly recommended to pass the `sampling_rate` argument to `Wav2Vec2FeatureExtractor()`. Failing to do so can result in silent errors that might be hard to debug.\n"
          ]
        }
      ]
    }
  ]
}